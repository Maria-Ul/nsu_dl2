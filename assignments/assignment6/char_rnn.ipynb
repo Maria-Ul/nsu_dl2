{
 "cells": [
  {
   "cell_type": "markdown",
   "metadata": {},
   "source": [
    "# Упражнение: Word2vec\n",
    "\n",
    "В этом упражнении вы:\n",
    "\n",
    "- научитесь генерировать текст с помощью RNN.\n",
    "\n",
    "```\n",
    "> python generate.py -n 500\n",
    "\n",
    "PAOLTREDN:\n",
    "Let, yil exter shis owrach we so sain, fleas,\n",
    "Be wast the shall deas, puty sonse my sheete.\n",
    "\n",
    "BAUFIO:\n",
    "Sirh carrow out with the knonuot my comest sifard queences\n",
    "O all a man unterd.\n",
    "\n",
    "PROMENSJO:\n",
    "Ay, I to Heron, I sack, againous; bepear, Butch,\n",
    "An as shalp will of that seal think.\n",
    "\n",
    "NUKINUS:\n",
    "And house it to thee word off hee:\n",
    "And thou charrota the son hange of that shall denthand\n",
    "For the say hor you are of I folles muth me?\n",
    "```\n",
    "\n",
    "Давайте научимся генерировать текст символ за символом. Вы можете спросить, насколько это практично? На самом деле, подобные модели довольно часто встречаются для задач машинного перевода, задачи составления текста по картинке (image captioning), моделей ответа на вопрос (question answering, QA) и других задач."
   ]
  },
  {
   "cell_type": "markdown",
   "metadata": {},
   "source": [
    "# Подготовка данных\n",
    "\n",
    "В этом ноутбуке мы используем простой текстовый файл."
   ]
  },
  {
   "cell_type": "code",
   "execution_count": 1,
   "metadata": {},
   "outputs": [
    {
     "name": "stdout",
     "output_type": "stream",
     "text": [
      "file_len = 1115394\n"
     ]
    }
   ],
   "source": [
    "import string\n",
    "import random\n",
    "import re\n",
    "\n",
    "file = open('datasets/shakespeare.txt').read()\n",
    "file_len = len(file)\n",
    "print('file_len =', file_len)"
   ]
  },
  {
   "cell_type": "markdown",
   "metadata": {},
   "source": [
    "Чтобы сделать входные данных из этой одной большой строки, мы разделим строку на части (куски, chunks)."
   ]
  },
  {
   "cell_type": "code",
   "execution_count": 2,
   "metadata": {},
   "outputs": [
    {
     "name": "stdout",
     "output_type": "stream",
     "text": [
      ". Come, follow us;\n",
      "We are to speak in public; for this business\n",
      "Will raise us all.\n",
      "\n",
      "ANTIGONUS:\n",
      "\n",
      "PAULINA:\n",
      "The keeper of the prison, call to him;\n",
      "let him have knowledge who I am.\n",
      "Good lady,\n",
      "No court in E\n"
     ]
    }
   ],
   "source": [
    "chunk_len = 200\n",
    "\n",
    "def random_chunk():\n",
    "    start_index = random.randint(0, file_len - chunk_len)\n",
    "    end_index = start_index + chunk_len + 1\n",
    "    return file[start_index:end_index]\n",
    "\n",
    "print(random_chunk())"
   ]
  },
  {
   "cell_type": "markdown",
   "metadata": {},
   "source": [
    "# Построение модели\n",
    "\n",
    "Модель будет брать из входного потока символ для шага t-1 и выдавать символ для следующего шага t.\n",
    "В модели будет три слоя: \n",
    " - линейный слой Embedding для кодирования входных символов во внутреннее пространство кодов,\n",
    " - слой с GRU или LSTM (один или несколько), который использует внутренние коды и скрытый слой,\n",
    " - декодер, который выдаёт распределение вероятностей для следующего символа."
   ]
  },
  {
   "cell_type": "code",
   "execution_count": 3,
   "metadata": {},
   "outputs": [],
   "source": [
    "import torch\n",
    "import torch.nn as nn\n",
    "from torch.autograd import Variable\n",
    "\n",
    "class Net(nn.Module):\n",
    "    def __init__(self, input_size, hidden_size, output_size, n_layers=1):\n",
    "        super(Net, self).__init__()\n",
    "        self.input_size = input_size\n",
    "        self.hidden_size = hidden_size\n",
    "        self.output_size = output_size\n",
    "        self.n_layers = n_layers\n",
    "        \n",
    "        self.encoder = nn.Embedding(input_size, hidden_size)\n",
    "        # TODO: подставьте сюда слой GRU или LSTM, натренируйте модель, \n",
    "        # и посмотрите, что работает лучше (см. упражнение в конце ноутбука).\n",
    "        self.recurrent = nn.GRU(hidden_size, hidden_size, n_layers)\n",
    "        # END CODE\n",
    "        self.decoder = nn.Linear(hidden_size, output_size)\n",
    "    \n",
    "    def forward(self, input, hidden):\n",
    "        input = self.encoder(input.view(1, -1))\n",
    "        output, hidden = self.recurrent(input.view(1, 1, -1), hidden)\n",
    "        output = self.decoder(output.view(1, -1))\n",
    "        return output, hidden\n",
    "\n",
    "    def init_hidden(self):\n",
    "        return Variable(torch.zeros(self.n_layers, 1, self.hidden_size))"
   ]
  },
  {
   "cell_type": "markdown",
   "metadata": {},
   "source": [
    "# Входы и выходы"
   ]
  },
  {
   "cell_type": "markdown",
   "metadata": {},
   "source": [
    "Каждый кусок текста будет преобразован в тензор, конкретнее, в `LongTensor` (используется для целочисленных значений), посредством прохода во всем символам строки и заглядываниям в таблицу кодов символов `all_characters`."
   ]
  },
  {
   "cell_type": "code",
   "execution_count": 4,
   "metadata": {},
   "outputs": [
    {
     "name": "stdout",
     "output_type": "stream",
     "text": [
      "Variable containing:\n",
      " 10\n",
      " 11\n",
      " 12\n",
      " 39\n",
      " 40\n",
      " 41\n",
      "[torch.LongTensor of size 6]\n",
      "\n"
     ]
    }
   ],
   "source": [
    "all_characters = string.printable\n",
    "n_characters = len(all_characters)\n",
    "\n",
    "# Turn string into list of longs\n",
    "def char_tensor(string):\n",
    "    tensor = torch.zeros(len(string)).long()\n",
    "    #TODO: напишите код для преобразования символов строки в коды,\n",
    "    # используйте all_characters как таблицу преобразования\n",
    "    #END CODE\n",
    "    return Variable(tensor)\n",
    "\n",
    "print(char_tensor('abcDEF'))\n",
    "assert list(char_tensor('abcDEF').data) == [10, 11, 12, 39, 40, 41]"
   ]
  },
  {
   "cell_type": "markdown",
   "metadata": {},
   "source": [
    "Теперь мы можем подготовить пару из входного и выходного тензора для тренировки на основе метода random_chunk.\n",
    "Мы будем использовать мини-батч, состоящий из:\n",
    " - для входного тензора, из всех символов *кроме последнего* (например, \"ab\" для входа \"abc\")\n",
    " - для выходного тензора, из всех символов *кроме первого* (например, \"bc\" для входа \"abc\")"
   ]
  },
  {
   "cell_type": "code",
   "execution_count": 5,
   "metadata": {},
   "outputs": [
    {
     "name": "stdout",
     "output_type": "stream",
     "text": [
      "201 200 200\n"
     ]
    }
   ],
   "source": [
    "def random_training_set():    \n",
    "    chunk = random_chunk()\n",
    "    inp = char_tensor(chunk[:-1])\n",
    "    target = char_tensor(chunk[1:])\n",
    "    return inp, target\n",
    "\n",
    "_in, _out = random_training_set()\n",
    "print(len(random_chunk()), len(_in), len(_out))\n",
    "assert list(_in[1:].data) == list(_out[:-1].data)"
   ]
  },
  {
   "cell_type": "markdown",
   "metadata": {},
   "source": [
    "# Использование нейросети\n",
    "\n",
    "Чтобы сгенерировать данные с помощью нашей обученной нейросети, мы будем подавать нейросети по одному символу за раз, и использовать выходы нейросети как распределение вероятностей для следующего символа, и потом повторять этот процесс. Для начала генерации мы подаём стартовую строку (по крайней мере один символ), из которой мы строим состояние скрытого слоя, которое нам будет нужно для генерации последующих символов."
   ]
  },
  {
   "cell_type": "code",
   "execution_count": 6,
   "metadata": {},
   "outputs": [],
   "source": [
    "def evaluate(net, prime_str='A', predict_len=100, temperature=0.8):\n",
    "    hidden = net.init_hidden()\n",
    "    prime_input = char_tensor(prime_str)\n",
    "    predicted = prime_str\n",
    "\n",
    "    # Используем стартовую строку чтобы получить прошлое скрытое состояние\n",
    "    for p in range(len(prime_str) - 1):\n",
    "        _, hidden = net(prime_input[p], hidden)\n",
    "    inp = prime_input[-1]\n",
    "    \n",
    "    for p in range(predict_len):\n",
    "        output, hidden = net(inp, hidden)\n",
    "        \n",
    "        # Sample from the network as a multinomial distribution\n",
    "        output_dist = output.data.view(-1).div(temperature).exp()\n",
    "        top_i = torch.multinomial(output_dist, 1)[0]\n",
    "        \n",
    "        # Add predicted character to string and use as next input\n",
    "        predicted_char = all_characters[top_i]\n",
    "        predicted += predicted_char\n",
    "        inp = char_tensor(predicted_char)\n",
    "\n",
    "    return predicted"
   ]
  },
  {
   "cell_type": "markdown",
   "metadata": {},
   "source": [
    "# Тренировка"
   ]
  },
  {
   "cell_type": "markdown",
   "metadata": {},
   "source": [
    "Функция для вывода прошедшего времени:"
   ]
  },
  {
   "cell_type": "code",
   "execution_count": 7,
   "metadata": {},
   "outputs": [],
   "source": [
    "import time, math\n",
    "\n",
    "def time_since(since):\n",
    "    s = time.time() - since\n",
    "    m = math.floor(s / 60)\n",
    "    s -= m * 60\n",
    "    return '%d:%02d' % (m, s)"
   ]
  },
  {
   "cell_type": "markdown",
   "metadata": {},
   "source": [
    "Функция тренировки"
   ]
  },
  {
   "cell_type": "code",
   "execution_count": 8,
   "metadata": {},
   "outputs": [],
   "source": [
    "def train(net, opt, inp, target):\n",
    "    hidden = net.init_hidden()\n",
    "    net.zero_grad()\n",
    "    loss = 0\n",
    "\n",
    "    for c in range(chunk_len):\n",
    "        output, hidden = net(inp[c], hidden)\n",
    "        loss += criterion(output, target[c])\n",
    "\n",
    "    loss.backward()\n",
    "    opt.step()\n",
    "\n",
    "    return loss.data[0] / chunk_len"
   ]
  },
  {
   "cell_type": "markdown",
   "metadata": {},
   "source": [
    "Определяем тренировочные параметры, инициализируем модель и начинаем тренировку:"
   ]
  },
  {
   "cell_type": "code",
   "execution_count": 9,
   "metadata": {
    "scrolled": false
   },
   "outputs": [
    {
     "name": "stdout",
     "output_type": "stream",
     "text": [
      "[0:13 (100 5%) cost=2.3444]\n",
      "Whit barle and I doon land thall gor whand gonses\n",
      "Thait and I and the's you nop?\n",
      "Oig, rollill, thee di \n",
      "\n",
      "[0:25 (200 10%) cost=2.2026]\n",
      "What of ven math me chinglee,\n",
      "IO Ois feeming ish in in knou hill the for not ungars\n",
      "Severe:\n",
      "The hing w \n",
      "\n",
      "[0:35 (300 15%) cost=1.9093]\n",
      "Whear:\n",
      "Noo thou cistious since his for laven are anse, wountle a looud as cavoks, hathes;\n",
      "And sut oven \n",
      "\n",
      "[0:44 (400 20%) cost=1.8833]\n",
      "Whuer, wisleer,\n",
      "Wing,\n",
      "Dim and sit thom I and make, be me there and not leve and be tring.\n",
      "Whand thou m \n",
      "\n",
      "[0:54 (500 25%) cost=1.8968]\n",
      "Wher overd your.\n",
      "\n",
      "CORMIOLOLANUS:\n",
      "Whist thy of I kerwacund the coust, ever\n",
      "And thmind blood-she cith my \n",
      "\n",
      "[1:03 (600 30%) cost=1.9830]\n",
      "Whers.\n",
      "\n",
      "JURICH:\n",
      "I bet is shour dood yeard,\n",
      "But int sustle the sir, for duad:\n",
      "And the bay, tery oter?\n",
      "\n",
      " \n",
      "\n",
      "[1:13 (700 35%) cost=1.7144]\n",
      "Whond more known,\n",
      "To me life vesving hat\n",
      "Where in to sild net that with be worly.\n",
      "\n",
      "CORIOLANUS:\n",
      "To prin \n",
      "\n",
      "[1:22 (800 40%) cost=1.7892]\n",
      "Whan thee confieven's and lifore\n",
      "\n",
      "DUKE DONTA:\n",
      "Row, for's I will a lacking, the mut deae,\n",
      "Do so hear a  \n",
      "\n",
      "[1:32 (900 45%) cost=1.9653]\n",
      "Wherer oblaing not the pars,\n",
      "And-son, with to hee spenples?\n",
      "\n",
      "FORIO:\n",
      "No, Claiding I plarsind say, by bo \n",
      "\n",
      "[1:41 (1000 50%) cost=1.8235]\n",
      "Whiending and to not no;\n",
      "That and may crive gepone me of whosh'd\n",
      "A, think you daught my faice in fors  \n",
      "\n",
      "[1:51 (1100 55%) cost=1.8127]\n",
      "Whal;\n",
      "The whan you me no the plencersting in have none and\n",
      "In the Tird ENuice you,\n",
      "Kan he how land hou \n",
      "\n",
      "[2:00 (1200 60%) cost=2.0828]\n",
      "Whter is with atum;\n",
      "Whittern ubutain our bid plader'd stold your here\n",
      "And pland you shall hou leied in \n",
      "\n",
      "[2:10 (1300 65%) cost=1.7909]\n",
      "Where you should nour what hearst and is desents: shall good\n",
      "RAded as make count vetand to uppret\n",
      "Minc \n",
      "\n",
      "[2:20 (1400 70%) cost=2.0620]\n",
      "Wh ifwels the dighall hadse we kinds;\n",
      "I oor and lass!\n",
      "Look make me in shear in than this away.\n",
      "\n",
      "KING R \n",
      "\n",
      "[2:29 (1500 75%) cost=1.6112]\n",
      "Wher, my sir; ageithands\n",
      "O pare, I seen; I greing a could I luppanble with burdis but and of I him\n",
      "to  \n",
      "\n",
      "[2:39 (1600 80%) cost=1.8177]\n",
      "Whert have is your to I was a brats'd,\n",
      "Wast I so syour more more that what I heard wold my leave,\n",
      "Uner \n",
      "\n",
      "[2:48 (1700 85%) cost=2.0391]\n",
      "Whty eaks, my fuce yeet wither it:\n",
      "Yeight one more his gried by me a paiturather eward.\n",
      "\n",
      "CORTISBA:\n",
      "I t \n",
      "\n",
      "[2:57 (1800 90%) cost=1.9015]\n",
      "When is bachse his the would dear villaingems for\n",
      "woss out them agains not wishem, is througlent\n",
      "This  \n",
      "\n",
      "[3:07 (1900 95%) cost=1.7332]\n",
      "Wher.\n",
      "And doad them of onmest sund death you the soring the it mate that\n",
      "Or belooke, shill boys'd you  \n",
      "\n",
      "[3:16 (2000 100%) cost=1.8305]\n",
      "Whey when what my do didst no my masteld thou-blook quing at I would with the his not with me hather.\n",
      " \n",
      "\n"
     ]
    }
   ],
   "source": [
    "n_epochs = 2000\n",
    "print_every = 100\n",
    "plot_every = 10\n",
    "hidden_size = 100\n",
    "n_layers = 1\n",
    "lr = 0.005\n",
    "\n",
    "net = Net(n_characters, hidden_size, n_characters, n_layers)\n",
    "optimizer = torch.optim.Adam(net.parameters(), lr=lr)\n",
    "criterion = nn.CrossEntropyLoss()\n",
    "\n",
    "start = time.time()\n",
    "all_losses = []\n",
    "loss_avg = 0\n",
    "\n",
    "for epoch in range(1, n_epochs + 1):\n",
    "    loss = train(net, optimizer, *random_training_set())       \n",
    "    loss_avg += loss\n",
    "\n",
    "    if epoch % print_every == 0:\n",
    "        print('[%s (%d %d%%) cost=%.4f]' % (time_since(start), epoch, epoch / n_epochs * 100, loss))\n",
    "        print(evaluate(net, 'Wh', 100), '\\n')\n",
    "\n",
    "    if epoch % plot_every == 0:\n",
    "        all_losses.append(loss_avg / plot_every)\n",
    "        loss_avg = 0"
   ]
  },
  {
   "cell_type": "markdown",
   "metadata": {},
   "source": [
    "# Рисуем значение функции потерь во время тренировки\n",
    "\n",
    "Посмотрим, как сеть училась, нарисовав график функции потерь (мы сохранили его в переменной all_losses):"
   ]
  },
  {
   "cell_type": "code",
   "execution_count": 10,
   "metadata": {},
   "outputs": [
    {
     "data": {
      "image/png": "[encoded data removed]",
      "text/plain": [
       "<matplotlib.figure.Figure at 0x7fb485c39c88>"
      ]
     },
     "metadata": {},
     "output_type": "display_data"
    }
   ],
   "source": [
    "import matplotlib.pyplot as plt\n",
    "import matplotlib.ticker as ticker\n",
    "%matplotlib inline\n",
    "\n",
    "plt.figure()\n",
    "plt.plot(all_losses);"
   ]
  },
  {
   "cell_type": "markdown",
   "metadata": {},
   "source": [
    "# Использование при разных \"температурах\"\n",
    "\n",
    "В функции `evaluate` выше, каждый раз, когда мы делали предсказание, значения выходного слоя делились на аргумент \"температуры\" (`temperature`). Использование более высокой температуры позволяет сделать все вероятности более равновероятными, и даёт \"более случайные\" значения на выходе. Использование более низких значений (меньше 1) даёт больший вклад для значений с высокими вероятностями. Если мы двигаем температуру к нулю, мы оставляем только наиболее вероятные выходы.\n",
    "\n",
    "Давайте посмотрим, что выдаёт сеть при разных значениях этого параметра:"
   ]
  },
  {
   "cell_type": "code",
   "execution_count": 11,
   "metadata": {},
   "outputs": [
    {
     "name": "stdout",
     "output_type": "stream",
     "text": [
      "Thow again with he praseding and he tale;\n",
      "Cather, who be he seen would my have would be come then I dake hath in them.\n",
      "\n",
      "PETER:\n",
      "I a to her him, he staden's.\n",
      "\n",
      "Sponove in they\n",
      "For freit, he manged rebrease\n"
     ]
    }
   ],
   "source": [
    "print(evaluate(net, 'Th', 200, temperature=0.8))"
   ]
  },
  {
   "cell_type": "markdown",
   "metadata": {},
   "source": [
    "Lower temperatures are less varied, choosing only the more probable outputs:"
   ]
  },
  {
   "cell_type": "code",
   "execution_count": 12,
   "metadata": {},
   "outputs": [
    {
     "name": "stdout",
     "output_type": "stream",
     "text": [
      "Than the we the with the be the will the state the with the state the with and he with his hath the with son the be the strange the with the shall the prease the stay,\n",
      "And the will the with the will the\n"
     ]
    }
   ],
   "source": [
    "print(evaluate(net, 'Th', 200, temperature=0.2))"
   ]
  },
  {
   "cell_type": "markdown",
   "metadata": {},
   "source": [
    "Higher temperatures more varied, choosing less probable outputs:"
   ]
  },
  {
   "cell_type": "code",
   "execution_count": 13,
   "metadata": {},
   "outputs": [
    {
     "name": "stdout",
     "output_type": "stream",
     "text": [
      "Ths: sthrurs, Dive?\n",
      "Uour highinket Mefep'-hack\n",
      "vequs hif 'ngongce?\n",
      "fervbet it ulduriendss: I rusk the size\n",
      "ciecery timper: trektor excarys?\n",
      "\n",
      "TRUMIO:\n",
      "Peet coaver,, mseanters, she peasider? what frovest.\n",
      "\n"
     ]
    }
   ],
   "source": [
    "print(evaluate(net, 'Th', 200, temperature=1.4))"
   ]
  },
  {
   "cell_type": "markdown",
   "metadata": {
    "collapsed": true
   },
   "source": [
    "# Упражнение\n",
    "Заполните TODO, подберите \"на глаз\" параметры обучения, и обучите нейросеть в трёх разных ноутбуках:\n",
    " - с GRU размера 256\n",
    " - с LSTM размера 256\n",
    " - с двумя слоями LSTM размера 128\n",
    " \n",
    "Приведите примеры сгенерированного текста"
   ]
  },
  {
   "cell_type": "code",
   "execution_count": null,
   "metadata": {},
   "outputs": [],
   "source": []
  }
 ],
 "metadata": {
  "anaconda-cloud": {},
  "kernelspec": {
   "display_name": "nsu_dl",
   "language": "python",
   "name": "nsu_dl"
  },
  "language_info": {
   "codemirror_mode": {
    "name": "ipython",
    "version": 3
   },
   "file_extension": ".py",
   "mimetype": "text/x-python",
   "name": "python",
   "nbconvert_exporter": "python",
   "pygments_lexer": "ipython3",
   "version": "3.5.3"
  }
 },
 "nbformat": 4,
 "nbformat_minor": 1
}
